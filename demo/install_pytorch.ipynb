{
 "cells": [
  {
   "cell_type": "code",
   "execution_count": 1,
   "metadata": {},
   "outputs": [
    {
     "name": "stdout",
     "output_type": "stream",
     "text": [
      "Python 3.8.3\n"
     ]
    }
   ],
   "source": [
    "!python --version"
   ]
  },
  {
   "cell_type": "code",
   "execution_count": 7,
   "metadata": {
    "scrolled": true,
    "tags": []
   },
   "outputs": [
    {
     "name": "stdout",
     "output_type": "stream",
     "text": [
      "\u001b[33m\u001b[1mwarning \u001b[m Package tarball '/opt/conda/pkgs/cudatoolkit-11.3.1-ha36c431_9.tar.bz2' is invalid\n",
      "\u001b[33m\u001b[1mwarning \u001b[m Package tarball '/opt/conda/pkgs/ffmpeg-4.3-hf484d3e_0.tar.bz2' is invalid\n",
      "\u001b[33m\u001b[1mwarning \u001b[m Package tarball '/opt/conda/pkgs/pytorch-1.10.1-py3.8_cuda11.3_cudnn8.2.0_0.tar.bz2' is invalid\n",
      "\u001b[33m\u001b[1mwarning \u001b[m Package tarball '/opt/conda/pkgs/torchaudio-0.10.1-py38_cu113.tar.bz2' is invalid\n",
      "\u001b[33m\u001b[1mwarning \u001b[m Package tarball '/opt/conda/pkgs/torchvision-0.11.2-py38_cu113.tar.bz2' is invalid\n",
      "  Package               Version  Build                        Channel                    Size\n",
      "───────────────────────────────────────────────────────────────────────────────────────────────\n",
      "  Install:\n",
      "───────────────────────────────────────────────────────────────────────────────────────────────\n",
      "\n",
      "\u001b[32m  + blas             \u001b[00m      2.16  mkl                          conda-forge/linux-64\u001b[32m     Cached\u001b[00m\n",
      "\u001b[32m  + cudatoolkit      \u001b[00m    11.3.1  ha36c431_9                   conda-forge/linux-64     815 MB\n",
      "\u001b[32m  + ffmpeg           \u001b[00m       4.3  hf484d3e_0                   pytorch/linux-64          10 MB\n",
      "\u001b[32m  + freetype         \u001b[00m    2.10.4  h0708190_1                   conda-forge/linux-64\u001b[32m     Cached\u001b[00m\n",
      "\u001b[32m  + gmp              \u001b[00m     6.2.1  h58526e2_0                   conda-forge/linux-64     806 KB\n",
      "\u001b[32m  + gnutls           \u001b[00m    3.6.13  h85f3911_1                   conda-forge/linux-64       2 MB\n",
      "\u001b[32m  + intel-openmp     \u001b[00m  2021.4.0  h06a4308_3561                pkgs/main/linux-64  \u001b[32m     Cached\u001b[00m\n",
      "\u001b[32m  + jbig             \u001b[00m       2.1  h7f98852_2003                conda-forge/linux-64\u001b[32m     Cached\u001b[00m\n",
      "\u001b[32m  + jpeg             \u001b[00m        9d  h36c2ea0_0                   conda-forge/linux-64\u001b[32m     Cached\u001b[00m\n",
      "\u001b[32m  + lame             \u001b[00m     3.100  h7f98852_1001                conda-forge/linux-64\u001b[32m     Cached\u001b[00m\n",
      "\u001b[32m  + lcms2            \u001b[00m      2.12  hddcbb42_0                   conda-forge/linux-64\u001b[32m     Cached\u001b[00m\n",
      "\u001b[32m  + lerc             \u001b[00m     2.2.1  h9c3ff4c_0                   conda-forge/linux-64\u001b[32m     Cached\u001b[00m\n",
      "\u001b[32m  + libblas          \u001b[00m     3.8.0  16_mkl                       conda-forge/linux-64\u001b[32m     Cached\u001b[00m\n",
      "\u001b[32m  + libcblas         \u001b[00m     3.8.0  16_mkl                       conda-forge/linux-64\u001b[32m     Cached\u001b[00m\n",
      "\u001b[32m  + libdeflate       \u001b[00m       1.7  h7f98852_5                   conda-forge/linux-64\u001b[32m     Cached\u001b[00m\n",
      "\u001b[32m  + libgfortran-ng   \u001b[00m     7.5.0  h14aa051_19                  conda-forge/linux-64\u001b[32m     Cached\u001b[00m\n",
      "\u001b[32m  + libgfortran4     \u001b[00m     7.5.0  h14aa051_19                  conda-forge/linux-64\u001b[32m     Cached\u001b[00m\n",
      "\u001b[32m  + liblapack        \u001b[00m     3.8.0  16_mkl                       conda-forge/linux-64\u001b[32m     Cached\u001b[00m\n",
      "\u001b[32m  + liblapacke       \u001b[00m     3.8.0  16_mkl                       conda-forge/linux-64      11 KB\n",
      "\u001b[32m  + libpng           \u001b[00m    1.6.37  h21135ba_2                   conda-forge/linux-64\u001b[32m     Cached\u001b[00m\n",
      "\u001b[32m  + libtiff          \u001b[00m     4.3.0  hf544144_1                   conda-forge/linux-64\u001b[32m     Cached\u001b[00m\n",
      "\u001b[32m  + libwebp-base     \u001b[00m     1.2.1  h7f98852_0                   conda-forge/linux-64\u001b[32m     Cached\u001b[00m\n",
      "\u001b[32m  + mkl              \u001b[00m    2020.2  256                          pkgs/main/linux-64  \u001b[32m     Cached\u001b[00m\n",
      "\u001b[32m  + nettle           \u001b[00m       3.6  he412f7d_0                   conda-forge/linux-64\u001b[32m     Cached\u001b[00m\n",
      "\u001b[32m  + numpy            \u001b[00m    1.21.4  py38he2449b9_0               conda-forge/linux-64\u001b[32m     Cached\u001b[00m\n",
      "\u001b[32m  + olefile          \u001b[00m      0.46  pyh9f0ad1d_1                 conda-forge/noarch        32 KB\n",
      "\u001b[32m  + openh264         \u001b[00m     2.1.1  h780b84a_0                   conda-forge/linux-64\u001b[32m     Cached\u001b[00m\n",
      "\u001b[32m  + openjpeg         \u001b[00m     2.4.0  hb52868f_1                   conda-forge/linux-64\u001b[32m     Cached\u001b[00m\n",
      "\u001b[32m  + pillow           \u001b[00m     8.3.2  py38h8e6f84c_0               conda-forge/linux-64\u001b[32m     Cached\u001b[00m\n",
      "\u001b[32m  + pytorch          \u001b[00m    1.10.1  py3.8_cuda11.3_cudnn8.2.0_0  pytorch/linux-64           1 GB\n",
      "\u001b[32m  + pytorch-mutex    \u001b[00m       1.0  cuda                         pytorch/noarch      \u001b[32m     Cached\u001b[00m\n",
      "\u001b[32m  + torchaudio       \u001b[00m    0.10.1  py38_cu113                   pytorch/linux-64           5 MB\n",
      "\u001b[32m  + torchvision      \u001b[00m    0.11.2  py38_cu113                   pytorch/linux-64          30 MB\n",
      "\u001b[32m  + typing_extensions\u001b[00m     4.0.1  pyha770c72_0                 conda-forge/noarch  \u001b[32m     Cached\u001b[00m\n",
      "\n",
      "  Summary:\n",
      "\n",
      "  Install: 34 packages\n",
      "\n",
      "  Total download: 2 GB\n",
      "\n",
      "───────────────────────────────────────────────────────────────────────────────────────────────\n",
      "\n",
      "^C\n",
      "\u001b[31m\u001b[1merror   \u001b[m Download didn't finish!\n"
     ]
    }
   ],
   "source": [
    "# !mamba install -y --quiet pytorch torchvision torchaudio cudatoolkit=11.3 -c pytorch -c conda-forge"
   ]
  },
  {
   "cell_type": "code",
   "execution_count": null,
   "metadata": {},
   "outputs": [],
   "source": []
  }
 ],
 "metadata": {
  "kernelspec": {
   "display_name": "Python 3 (ipykernel)",
   "language": "python",
   "name": "python3"
  },
  "language_info": {
   "codemirror_mode": {
    "name": "ipython",
    "version": 3
   },
   "file_extension": ".py",
   "mimetype": "text/x-python",
   "name": "python",
   "nbconvert_exporter": "python",
   "pygments_lexer": "ipython3",
   "version": "3.8.13"
  }
 },
 "nbformat": 4,
 "nbformat_minor": 4
}
