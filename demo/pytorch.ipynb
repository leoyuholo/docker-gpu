{
 "cells": [
  {
   "cell_type": "code",
   "execution_count": 1,
   "metadata": {
    "execution": {
     "iopub.execute_input": "2022-10-23T04:30:12.879553Z",
     "iopub.status.busy": "2022-10-23T04:30:12.879333Z",
     "iopub.status.idle": "2022-10-23T04:30:12.884536Z",
     "shell.execute_reply": "2022-10-23T04:30:12.883347Z",
     "shell.execute_reply.started": "2022-10-23T04:30:12.879532Z"
    },
    "tags": []
   },
   "outputs": [],
   "source": [
    "# !pip install matplotlib"
   ]
  },
  {
   "cell_type": "code",
   "execution_count": 2,
   "metadata": {
    "execution": {
     "iopub.execute_input": "2022-10-23T04:30:12.885675Z",
     "iopub.status.busy": "2022-10-23T04:30:12.885413Z",
     "iopub.status.idle": "2022-10-23T04:30:13.797466Z",
     "shell.execute_reply": "2022-10-23T04:30:13.796044Z",
     "shell.execute_reply.started": "2022-10-23T04:30:12.885650Z"
    }
   },
   "outputs": [],
   "source": [
    "import torch\n",
    "import torchvision"
   ]
  },
  {
   "cell_type": "code",
   "execution_count": 3,
   "metadata": {
    "execution": {
     "iopub.execute_input": "2022-10-23T04:30:13.799018Z",
     "iopub.status.busy": "2022-10-23T04:30:13.798719Z",
     "iopub.status.idle": "2022-10-23T04:30:13.812135Z",
     "shell.execute_reply": "2022-10-23T04:30:13.811155Z",
     "shell.execute_reply.started": "2022-10-23T04:30:13.798995Z"
    }
   },
   "outputs": [
    {
     "data": {
      "text/plain": [
       "<torch._C.Generator at 0x7f9728022270>"
      ]
     },
     "execution_count": 3,
     "metadata": {},
     "output_type": "execute_result"
    }
   ],
   "source": [
    "n_epochs = 3\n",
    "batch_size_train = 64\n",
    "batch_size_test = 1000\n",
    "learning_rate = 0.01\n",
    "momentum = 0.5\n",
    "log_interval = 10\n",
    "\n",
    "random_seed = 1\n",
    "torch.backends.cudnn.enabled = True\n",
    "torch.manual_seed(random_seed)"
   ]
  },
  {
   "cell_type": "code",
   "execution_count": 4,
   "metadata": {
    "execution": {
     "iopub.execute_input": "2022-10-23T04:30:13.813300Z",
     "iopub.status.busy": "2022-10-23T04:30:13.813052Z",
     "iopub.status.idle": "2022-10-23T04:30:13.877096Z",
     "shell.execute_reply": "2022-10-23T04:30:13.875470Z",
     "shell.execute_reply.started": "2022-10-23T04:30:13.813278Z"
    }
   },
   "outputs": [
    {
     "name": "stdout",
     "output_type": "stream",
     "text": [
      "cuda:0\n"
     ]
    }
   ],
   "source": [
    "device = torch.device(\"cuda:0\" if torch.cuda.is_available() else \"cpu\")\n",
    "\n",
    "# Assuming that we are on a CUDA machine, this should print a CUDA device:\n",
    "\n",
    "print(device)"
   ]
  },
  {
   "cell_type": "code",
   "execution_count": 5,
   "metadata": {
    "execution": {
     "iopub.execute_input": "2022-10-23T04:30:13.878258Z",
     "iopub.status.busy": "2022-10-23T04:30:13.878019Z",
     "iopub.status.idle": "2022-10-23T04:30:15.252570Z",
     "shell.execute_reply": "2022-10-23T04:30:15.251868Z",
     "shell.execute_reply.started": "2022-10-23T04:30:13.878235Z"
    }
   },
   "outputs": [
    {
     "name": "stdout",
     "output_type": "stream",
     "text": [
      "Downloading http://yann.lecun.com/exdb/mnist/train-images-idx3-ubyte.gz\n",
      "Downloading http://yann.lecun.com/exdb/mnist/train-images-idx3-ubyte.gz to /files/MNIST/raw/train-images-idx3-ubyte.gz\n"
     ]
    },
    {
     "data": {
      "application/vnd.jupyter.widget-view+json": {
       "model_id": "4ab0b2572202445c89fe96d00070e1a5",
       "version_major": 2,
       "version_minor": 0
      },
      "text/plain": [
       "  0%|          | 0/9912422 [00:00<?, ?it/s]"
      ]
     },
     "metadata": {},
     "output_type": "display_data"
    },
    {
     "name": "stdout",
     "output_type": "stream",
     "text": [
      "Extracting /files/MNIST/raw/train-images-idx3-ubyte.gz to /files/MNIST/raw\n",
      "\n",
      "Downloading http://yann.lecun.com/exdb/mnist/train-labels-idx1-ubyte.gz\n",
      "Downloading http://yann.lecun.com/exdb/mnist/train-labels-idx1-ubyte.gz to /files/MNIST/raw/train-labels-idx1-ubyte.gz\n"
     ]
    },
    {
     "data": {
      "application/vnd.jupyter.widget-view+json": {
       "model_id": "4c58641c77894ce3977dade28203fe38",
       "version_major": 2,
       "version_minor": 0
      },
      "text/plain": [
       "  0%|          | 0/28881 [00:00<?, ?it/s]"
      ]
     },
     "metadata": {},
     "output_type": "display_data"
    },
    {
     "name": "stdout",
     "output_type": "stream",
     "text": [
      "Extracting /files/MNIST/raw/train-labels-idx1-ubyte.gz to /files/MNIST/raw\n",
      "\n",
      "Downloading http://yann.lecun.com/exdb/mnist/t10k-images-idx3-ubyte.gz\n",
      "Downloading http://yann.lecun.com/exdb/mnist/t10k-images-idx3-ubyte.gz to /files/MNIST/raw/t10k-images-idx3-ubyte.gz\n"
     ]
    },
    {
     "data": {
      "application/vnd.jupyter.widget-view+json": {
       "model_id": "61d4ca5f62ee48cea806232af2e2a0a5",
       "version_major": 2,
       "version_minor": 0
      },
      "text/plain": [
       "  0%|          | 0/1648877 [00:00<?, ?it/s]"
      ]
     },
     "metadata": {},
     "output_type": "display_data"
    },
    {
     "name": "stdout",
     "output_type": "stream",
     "text": [
      "Extracting /files/MNIST/raw/t10k-images-idx3-ubyte.gz to /files/MNIST/raw\n",
      "\n",
      "Downloading http://yann.lecun.com/exdb/mnist/t10k-labels-idx1-ubyte.gz\n",
      "Downloading http://yann.lecun.com/exdb/mnist/t10k-labels-idx1-ubyte.gz to /files/MNIST/raw/t10k-labels-idx1-ubyte.gz\n"
     ]
    },
    {
     "data": {
      "application/vnd.jupyter.widget-view+json": {
       "model_id": "462e3e786bb64538ab9ac39846e26d20",
       "version_major": 2,
       "version_minor": 0
      },
      "text/plain": [
       "  0%|          | 0/4542 [00:00<?, ?it/s]"
      ]
     },
     "metadata": {},
     "output_type": "display_data"
    },
    {
     "name": "stdout",
     "output_type": "stream",
     "text": [
      "Extracting /files/MNIST/raw/t10k-labels-idx1-ubyte.gz to /files/MNIST/raw\n",
      "\n"
     ]
    }
   ],
   "source": [
    "train_loader = torch.utils.data.DataLoader(\n",
    "  torchvision.datasets.MNIST('/files/', train=True, download=True,\n",
    "                             transform=torchvision.transforms.Compose([\n",
    "                               torchvision.transforms.ToTensor(),\n",
    "                               torchvision.transforms.Normalize(\n",
    "                                 (0.1307,), (0.3081,))\n",
    "                             ])),\n",
    "  batch_size=batch_size_train, shuffle=True)\n",
    "\n",
    "test_loader = torch.utils.data.DataLoader(\n",
    "  torchvision.datasets.MNIST('/files/', train=False, download=True,\n",
    "                             transform=torchvision.transforms.Compose([\n",
    "                               torchvision.transforms.ToTensor(),\n",
    "                               torchvision.transforms.Normalize(\n",
    "                                 (0.1307,), (0.3081,))\n",
    "                             ])),\n",
    "  batch_size=batch_size_test, shuffle=True)"
   ]
  },
  {
   "cell_type": "code",
   "execution_count": 6,
   "metadata": {
    "execution": {
     "iopub.execute_input": "2022-10-23T04:30:15.256266Z",
     "iopub.status.busy": "2022-10-23T04:30:15.255734Z",
     "iopub.status.idle": "2022-10-23T04:30:15.395082Z",
     "shell.execute_reply": "2022-10-23T04:30:15.394511Z",
     "shell.execute_reply.started": "2022-10-23T04:30:15.256236Z"
    }
   },
   "outputs": [],
   "source": [
    "examples = enumerate(test_loader)\n",
    "batch_idx, (example_data, example_targets) = next(examples)"
   ]
  },
  {
   "cell_type": "code",
   "execution_count": 7,
   "metadata": {
    "execution": {
     "iopub.execute_input": "2022-10-23T04:30:15.396464Z",
     "iopub.status.busy": "2022-10-23T04:30:15.396083Z",
     "iopub.status.idle": "2022-10-23T04:30:15.403012Z",
     "shell.execute_reply": "2022-10-23T04:30:15.401754Z",
     "shell.execute_reply.started": "2022-10-23T04:30:15.396440Z"
    }
   },
   "outputs": [
    {
     "data": {
      "text/plain": [
       "torch.Size([1000, 1, 28, 28])"
      ]
     },
     "execution_count": 7,
     "metadata": {},
     "output_type": "execute_result"
    }
   ],
   "source": [
    "example_data.shape"
   ]
  },
  {
   "cell_type": "code",
   "execution_count": 8,
   "metadata": {
    "execution": {
     "iopub.execute_input": "2022-10-23T04:30:15.405683Z",
     "iopub.status.busy": "2022-10-23T04:30:15.404970Z",
     "iopub.status.idle": "2022-10-23T04:30:16.418872Z",
     "shell.execute_reply": "2022-10-23T04:30:16.417359Z",
     "shell.execute_reply.started": "2022-10-23T04:30:15.405622Z"
    }
   },
   "outputs": [
    {
     "data": {
      "image/png": "[encoded data removed]",
      "text/plain": [
       "<Figure size 640x480 with 6 Axes>"
      ]
     },
     "metadata": {},
     "output_type": "display_data"
    }
   ],
   "source": [
    "import matplotlib.pyplot as plt\n",
    "\n",
    "fig = plt.figure()\n",
    "for i in range(6):\n",
    "  plt.subplot(2,3,i+1)\n",
    "  plt.tight_layout()\n",
    "  plt.imshow(example_data[i][0], cmap='gray', interpolation='none')\n",
    "  plt.title(\"Ground Truth: {}\".format(example_targets[i]))\n",
    "  plt.xticks([])\n",
    "  plt.yticks([])\n",
    "fig.show()"
   ]
  },
  {
   "cell_type": "code",
   "execution_count": 9,
   "metadata": {
    "execution": {
     "iopub.execute_input": "2022-10-23T04:30:16.420906Z",
     "iopub.status.busy": "2022-10-23T04:30:16.420575Z",
     "iopub.status.idle": "2022-10-23T04:30:16.427585Z",
     "shell.execute_reply": "2022-10-23T04:30:16.426021Z",
     "shell.execute_reply.started": "2022-10-23T04:30:16.420883Z"
    }
   },
   "outputs": [],
   "source": [
    "from pathlib import Path"
   ]
  },
  {
   "cell_type": "code",
   "execution_count": 10,
   "metadata": {
    "execution": {
     "iopub.execute_input": "2022-10-23T04:30:16.428977Z",
     "iopub.status.busy": "2022-10-23T04:30:16.428717Z",
     "iopub.status.idle": "2022-10-23T04:30:16.441221Z",
     "shell.execute_reply": "2022-10-23T04:30:16.440007Z",
     "shell.execute_reply.started": "2022-10-23T04:30:16.428954Z"
    }
   },
   "outputs": [],
   "source": [
    "results_dir = Path('./results')\n",
    "results_dir.mkdir(exist_ok=True)"
   ]
  },
  {
   "cell_type": "code",
   "execution_count": 11,
   "metadata": {
    "execution": {
     "iopub.execute_input": "2022-10-23T04:30:16.442635Z",
     "iopub.status.busy": "2022-10-23T04:30:16.442290Z",
     "iopub.status.idle": "2022-10-23T04:30:16.449480Z",
     "shell.execute_reply": "2022-10-23T04:30:16.448006Z",
     "shell.execute_reply.started": "2022-10-23T04:30:16.442603Z"
    }
   },
   "outputs": [],
   "source": [
    "import torch.nn as nn\n",
    "import torch.nn.functional as F\n",
    "import torch.optim as optim"
   ]
  },
  {
   "cell_type": "code",
   "execution_count": 12,
   "metadata": {
    "execution": {
     "iopub.execute_input": "2022-10-23T04:30:16.450953Z",
     "iopub.status.busy": "2022-10-23T04:30:16.450673Z",
     "iopub.status.idle": "2022-10-23T04:30:16.461375Z",
     "shell.execute_reply": "2022-10-23T04:30:16.460270Z",
     "shell.execute_reply.started": "2022-10-23T04:30:16.450929Z"
    }
   },
   "outputs": [],
   "source": [
    "class Net(nn.Module):\n",
    "    def __init__(self):\n",
    "        super(Net, self).__init__()\n",
    "        self.conv1 = nn.Conv2d(1, 10, kernel_size=5)\n",
    "        self.conv2 = nn.Conv2d(10, 20, kernel_size=5)\n",
    "        self.conv2_drop = nn.Dropout2d()\n",
    "        self.fc1 = nn.Linear(320, 50)\n",
    "        self.fc2 = nn.Linear(50, 10)\n",
    "\n",
    "    def forward(self, x):\n",
    "        x = F.relu(F.max_pool2d(self.conv1(x), 2))\n",
    "        x = F.relu(F.max_pool2d(self.conv2_drop(self.conv2(x)), 2))\n",
    "        x = x.view(-1, 320)\n",
    "        x = F.relu(self.fc1(x))\n",
    "        x = F.dropout(x, training=self.training)\n",
    "        x = self.fc2(x)\n",
    "        return F.log_softmax(x, dim=0)"
   ]
  },
  {
   "cell_type": "code",
   "execution_count": 13,
   "metadata": {
    "execution": {
     "iopub.execute_input": "2022-10-23T04:30:16.464649Z",
     "iopub.status.busy": "2022-10-23T04:30:16.463931Z",
     "iopub.status.idle": "2022-10-23T04:30:17.735874Z",
     "shell.execute_reply": "2022-10-23T04:30:17.733729Z",
     "shell.execute_reply.started": "2022-10-23T04:30:16.464585Z"
    }
   },
   "outputs": [],
   "source": [
    "network = Net()\n",
    "network = network.to(device)\n",
    "optimizer = optim.SGD(network.parameters(), lr=learning_rate,\n",
    "                      momentum=momentum)"
   ]
  },
  {
   "cell_type": "code",
   "execution_count": 14,
   "metadata": {
    "execution": {
     "iopub.execute_input": "2022-10-23T04:30:17.737738Z",
     "iopub.status.busy": "2022-10-23T04:30:17.737495Z",
     "iopub.status.idle": "2022-10-23T04:30:17.744869Z",
     "shell.execute_reply": "2022-10-23T04:30:17.743784Z",
     "shell.execute_reply.started": "2022-10-23T04:30:17.737715Z"
    }
   },
   "outputs": [],
   "source": [
    "train_losses = []\n",
    "train_counter = []\n",
    "test_losses = []\n",
    "test_counter = [i*len(train_loader.dataset) for i in range(n_epochs + 1)]"
   ]
  },
  {
   "cell_type": "code",
   "execution_count": 15,
   "metadata": {
    "execution": {
     "iopub.execute_input": "2022-10-23T04:30:17.746552Z",
     "iopub.status.busy": "2022-10-23T04:30:17.746230Z",
     "iopub.status.idle": "2022-10-23T04:30:17.760305Z",
     "shell.execute_reply": "2022-10-23T04:30:17.759100Z",
     "shell.execute_reply.started": "2022-10-23T04:30:17.746523Z"
    }
   },
   "outputs": [],
   "source": [
    "def train(epoch):\n",
    "  network.train()\n",
    "  for batch_idx, (data, target) in enumerate(train_loader):\n",
    "    data = data.to(device)\n",
    "    target = target.to(device)\n",
    "    optimizer.zero_grad()\n",
    "    output = network(data)\n",
    "    loss = F.nll_loss(output, target)\n",
    "    loss.backward()\n",
    "    optimizer.step()\n",
    "    if batch_idx % log_interval == 0:\n",
    "      print('Train Epoch: {} [{}/{} ({:.0f}%)]\\tLoss: {:.6f}'.format(\n",
    "        epoch, batch_idx * len(data), len(train_loader.dataset),\n",
    "        100. * batch_idx / len(train_loader), loss.item()))\n",
    "      train_losses.append(loss.item())\n",
    "      train_counter.append(\n",
    "        (batch_idx*64) + ((epoch-1)*len(train_loader.dataset)))\n",
    "      torch.save(network.state_dict(), './results/model.pth')\n",
    "      torch.save(optimizer.state_dict(), './results/optimizer.pth')"
   ]
  },
  {
   "cell_type": "code",
   "execution_count": 16,
   "metadata": {
    "execution": {
     "iopub.execute_input": "2022-10-23T04:30:17.761332Z",
     "iopub.status.busy": "2022-10-23T04:30:17.761107Z",
     "iopub.status.idle": "2022-10-23T04:30:17.769451Z",
     "shell.execute_reply": "2022-10-23T04:30:17.768505Z",
     "shell.execute_reply.started": "2022-10-23T04:30:17.761314Z"
    }
   },
   "outputs": [],
   "source": [
    "def test():\n",
    "  network.eval()\n",
    "  test_loss = 0\n",
    "  correct = 0\n",
    "  with torch.no_grad():\n",
    "    for data, target in test_loader:\n",
    "      data = data.to(device)\n",
    "      target = target.to(device)\n",
    "      output = network(data)\n",
    "      test_loss += F.nll_loss(output, target, reduction='sum').item()\n",
    "      pred = output.data.max(1, keepdim=True)[1]\n",
    "      correct += pred.eq(target.data.view_as(pred)).sum()\n",
    "  test_loss /= len(test_loader.dataset)\n",
    "  test_losses.append(test_loss)\n",
    "  print('\\nTest set: Avg. loss: {:.4f}, Accuracy: {}/{} ({:.0f}%)\\n'.format(\n",
    "    test_loss, correct, len(test_loader.dataset),\n",
    "    100. * correct / len(test_loader.dataset)))"
   ]
  },
  {
   "cell_type": "code",
   "execution_count": 17,
   "metadata": {
    "execution": {
     "iopub.execute_input": "2022-10-23T04:30:17.770926Z",
     "iopub.status.busy": "2022-10-23T04:30:17.770658Z",
     "iopub.status.idle": "2022-10-23T04:30:50.992281Z",
     "shell.execute_reply": "2022-10-23T04:30:50.990836Z",
     "shell.execute_reply.started": "2022-10-23T04:30:17.770902Z"
    },
    "scrolled": true,
    "tags": []
   },
   "outputs": [
    {
     "name": "stdout",
     "output_type": "stream",
     "text": [
      "Train Epoch: 1 [0/60000 (0%)]\tLoss: 4.171982\n",
      "Train Epoch: 1 [640/60000 (1%)]\tLoss: 4.129124\n",
      "Train Epoch: 1 [1280/60000 (2%)]\tLoss: 4.151787\n",
      "Train Epoch: 1 [1920/60000 (3%)]\tLoss: 4.136721\n",
      "Train Epoch: 1 [2560/60000 (4%)]\tLoss: 4.117313\n",
      "Train Epoch: 1 [3200/60000 (5%)]\tLoss: 4.075836\n",
      "Train Epoch: 1 [3840/60000 (6%)]\tLoss: 4.073428\n",
      "Train Epoch: 1 [4480/60000 (7%)]\tLoss: 4.090730\n",
      "Train Epoch: 1 [5120/60000 (9%)]\tLoss: 3.953260\n",
      "Train Epoch: 1 [5760/60000 (10%)]\tLoss: 3.818247\n",
      "Train Epoch: 1 [6400/60000 (11%)]\tLoss: 3.753591\n",
      "Train Epoch: 1 [7040/60000 (12%)]\tLoss: 3.733372\n",
      "Train Epoch: 1 [7680/60000 (13%)]\tLoss: 3.627972\n",
      "Train Epoch: 1 [8320/60000 (14%)]\tLoss: 3.519058\n",
      "Train Epoch: 1 [8960/60000 (15%)]\tLoss: 3.428446\n",
      "Train Epoch: 1 [9600/60000 (16%)]\tLoss: 3.459349\n",
      "Train Epoch: 1 [10240/60000 (17%)]\tLoss: 3.380373\n",
      "Train Epoch: 1 [10880/60000 (18%)]\tLoss: 3.446367\n",
      "Train Epoch: 1 [11520/60000 (19%)]\tLoss: 3.431820\n",
      "Train Epoch: 1 [12160/60000 (20%)]\tLoss: 3.336001\n",
      "Train Epoch: 1 [12800/60000 (21%)]\tLoss: 3.274886\n",
      "Train Epoch: 1 [13440/60000 (22%)]\tLoss: 3.233790\n",
      "Train Epoch: 1 [14080/60000 (23%)]\tLoss: 3.229493\n",
      "Train Epoch: 1 [14720/60000 (25%)]\tLoss: 3.208593\n",
      "Train Epoch: 1 [15360/60000 (26%)]\tLoss: 3.106281\n",
      "Train Epoch: 1 [16000/60000 (27%)]\tLoss: 3.289866\n",
      "Train Epoch: 1 [16640/60000 (28%)]\tLoss: 3.009226\n",
      "Train Epoch: 1 [17280/60000 (29%)]\tLoss: 3.354793\n",
      "Train Epoch: 1 [17920/60000 (30%)]\tLoss: 3.224292\n",
      "Train Epoch: 1 [18560/60000 (31%)]\tLoss: 3.181512\n",
      "Train Epoch: 1 [19200/60000 (32%)]\tLoss: 3.293551\n",
      "Train Epoch: 1 [19840/60000 (33%)]\tLoss: 3.123622\n",
      "Train Epoch: 1 [20480/60000 (34%)]\tLoss: 3.038797\n",
      "Train Epoch: 1 [21120/60000 (35%)]\tLoss: 2.946855\n",
      "Train Epoch: 1 [21760/60000 (36%)]\tLoss: 2.912112\n",
      "Train Epoch: 1 [22400/60000 (37%)]\tLoss: 2.933212\n",
      "Train Epoch: 1 [23040/60000 (38%)]\tLoss: 3.032652\n",
      "Train Epoch: 1 [23680/60000 (39%)]\tLoss: 3.103399\n",
      "Train Epoch: 1 [24320/60000 (41%)]\tLoss: 3.122929\n",
      "Train Epoch: 1 [24960/60000 (42%)]\tLoss: 2.872971\n",
      "Train Epoch: 1 [25600/60000 (43%)]\tLoss: 3.085681\n",
      "Train Epoch: 1 [26240/60000 (44%)]\tLoss: 2.720484\n",
      "Train Epoch: 1 [26880/60000 (45%)]\tLoss: 2.940750\n",
      "Train Epoch: 1 [27520/60000 (46%)]\tLoss: 2.778700\n",
      "Train Epoch: 1 [28160/60000 (47%)]\tLoss: 2.853468\n",
      "Train Epoch: 1 [28800/60000 (48%)]\tLoss: 2.855092\n",
      "Train Epoch: 1 [29440/60000 (49%)]\tLoss: 2.712024\n",
      "Train Epoch: 1 [30080/60000 (50%)]\tLoss: 2.725378\n",
      "Train Epoch: 1 [30720/60000 (51%)]\tLoss: 2.747308\n",
      "Train Epoch: 1 [31360/60000 (52%)]\tLoss: 2.708489\n",
      "Train Epoch: 1 [32000/60000 (53%)]\tLoss: 2.924275\n",
      "Train Epoch: 1 [32640/60000 (54%)]\tLoss: 2.617189\n",
      "Train Epoch: 1 [33280/60000 (55%)]\tLoss: 2.893290\n",
      "Train Epoch: 1 [33920/60000 (57%)]\tLoss: 2.757805\n",
      "Train Epoch: 1 [34560/60000 (58%)]\tLoss: 2.775008\n",
      "Train Epoch: 1 [35200/60000 (59%)]\tLoss: 2.847491\n",
      "Train Epoch: 1 [35840/60000 (60%)]\tLoss: 2.750326\n",
      "Train Epoch: 1 [36480/60000 (61%)]\tLoss: 2.597938\n",
      "Train Epoch: 1 [37120/60000 (62%)]\tLoss: 2.645159\n",
      "Train Epoch: 1 [37760/60000 (63%)]\tLoss: 2.785955\n",
      "Train Epoch: 1 [38400/60000 (64%)]\tLoss: 2.780428\n",
      "Train Epoch: 1 [39040/60000 (65%)]\tLoss: 2.775267\n",
      "Train Epoch: 1 [39680/60000 (66%)]\tLoss: 2.633740\n",
      "Train Epoch: 1 [40320/60000 (67%)]\tLoss: 2.611588\n",
      "Train Epoch: 1 [40960/60000 (68%)]\tLoss: 2.767322\n",
      "Train Epoch: 1 [41600/60000 (69%)]\tLoss: 2.633637\n",
      "Train Epoch: 1 [42240/60000 (70%)]\tLoss: 2.583494\n",
      "Train Epoch: 1 [42880/60000 (71%)]\tLoss: 2.681639\n",
      "Train Epoch: 1 [43520/60000 (72%)]\tLoss: 2.645623\n",
      "Train Epoch: 1 [44160/60000 (74%)]\tLoss: 2.828421\n",
      "Train Epoch: 1 [44800/60000 (75%)]\tLoss: 2.669621\n",
      "Train Epoch: 1 [45440/60000 (76%)]\tLoss: 2.442591\n",
      "Train Epoch: 1 [46080/60000 (77%)]\tLoss: 2.603611\n",
      "Train Epoch: 1 [46720/60000 (78%)]\tLoss: 2.626396\n",
      "Train Epoch: 1 [47360/60000 (79%)]\tLoss: 2.541875\n",
      "Train Epoch: 1 [48000/60000 (80%)]\tLoss: 2.589401\n",
      "Train Epoch: 1 [48640/60000 (81%)]\tLoss: 2.544389\n",
      "Train Epoch: 1 [49280/60000 (82%)]\tLoss: 2.593384\n",
      "Train Epoch: 1 [49920/60000 (83%)]\tLoss: 2.629044\n",
      "Train Epoch: 1 [50560/60000 (84%)]\tLoss: 2.560771\n",
      "Train Epoch: 1 [51200/60000 (85%)]\tLoss: 2.777760\n",
      "Train Epoch: 1 [51840/60000 (86%)]\tLoss: 2.517718\n",
      "Train Epoch: 1 [52480/60000 (87%)]\tLoss: 2.484922\n",
      "Train Epoch: 1 [53120/60000 (88%)]\tLoss: 2.548497\n",
      "Train Epoch: 1 [53760/60000 (90%)]\tLoss: 2.415024\n",
      "Train Epoch: 1 [54400/60000 (91%)]\tLoss: 2.485147\n",
      "Train Epoch: 1 [55040/60000 (92%)]\tLoss: 2.632751\n",
      "Train Epoch: 1 [55680/60000 (93%)]\tLoss: 2.539086\n",
      "Train Epoch: 1 [56320/60000 (94%)]\tLoss: 2.745558\n",
      "Train Epoch: 1 [56960/60000 (95%)]\tLoss: 2.656319\n",
      "Train Epoch: 1 [57600/60000 (96%)]\tLoss: 2.571933\n",
      "Train Epoch: 1 [58240/60000 (97%)]\tLoss: 2.442214\n",
      "Train Epoch: 1 [58880/60000 (98%)]\tLoss: 2.637769\n",
      "Train Epoch: 1 [59520/60000 (99%)]\tLoss: 2.512983\n",
      "\n",
      "Test set: Avg. loss: 4.9025, Accuracy: 9320/10000 (93%)\n",
      "\n",
      "Train Epoch: 2 [0/60000 (0%)]\tLoss: 2.506216\n",
      "Train Epoch: 2 [640/60000 (1%)]\tLoss: 2.529748\n",
      "Train Epoch: 2 [1280/60000 (2%)]\tLoss: 2.660022\n",
      "Train Epoch: 2 [1920/60000 (3%)]\tLoss: 2.806199\n",
      "Train Epoch: 2 [2560/60000 (4%)]\tLoss: 2.428982\n",
      "Train Epoch: 2 [3200/60000 (5%)]\tLoss: 2.441742\n",
      "Train Epoch: 2 [3840/60000 (6%)]\tLoss: 2.483906\n",
      "Train Epoch: 2 [4480/60000 (7%)]\tLoss: 2.547097\n",
      "Train Epoch: 2 [5120/60000 (9%)]\tLoss: 2.515863\n",
      "Train Epoch: 2 [5760/60000 (10%)]\tLoss: 2.565346\n",
      "Train Epoch: 2 [6400/60000 (11%)]\tLoss: 2.620447\n",
      "Train Epoch: 2 [7040/60000 (12%)]\tLoss: 2.394463\n",
      "Train Epoch: 2 [7680/60000 (13%)]\tLoss: 2.322547\n",
      "Train Epoch: 2 [8320/60000 (14%)]\tLoss: 2.777782\n",
      "Train Epoch: 2 [8960/60000 (15%)]\tLoss: 2.341528\n",
      "Train Epoch: 2 [9600/60000 (16%)]\tLoss: 2.518663\n",
      "Train Epoch: 2 [10240/60000 (17%)]\tLoss: 2.338027\n",
      "Train Epoch: 2 [10880/60000 (18%)]\tLoss: 2.476481\n",
      "Train Epoch: 2 [11520/60000 (19%)]\tLoss: 2.517867\n",
      "Train Epoch: 2 [12160/60000 (20%)]\tLoss: 2.527663\n",
      "Train Epoch: 2 [12800/60000 (21%)]\tLoss: 2.524796\n",
      "Train Epoch: 2 [13440/60000 (22%)]\tLoss: 2.440036\n",
      "Train Epoch: 2 [14080/60000 (23%)]\tLoss: 2.614282\n",
      "Train Epoch: 2 [14720/60000 (25%)]\tLoss: 2.560545\n",
      "Train Epoch: 2 [15360/60000 (26%)]\tLoss: 2.445191\n",
      "Train Epoch: 2 [16000/60000 (27%)]\tLoss: 2.394896\n",
      "Train Epoch: 2 [16640/60000 (28%)]\tLoss: 2.407155\n",
      "Train Epoch: 2 [17280/60000 (29%)]\tLoss: 2.469155\n",
      "Train Epoch: 2 [17920/60000 (30%)]\tLoss: 2.646791\n",
      "Train Epoch: 2 [18560/60000 (31%)]\tLoss: 2.443678\n",
      "Train Epoch: 2 [19200/60000 (32%)]\tLoss: 2.517377\n",
      "Train Epoch: 2 [19840/60000 (33%)]\tLoss: 2.404898\n",
      "Train Epoch: 2 [20480/60000 (34%)]\tLoss: 2.400192\n",
      "Train Epoch: 2 [21120/60000 (35%)]\tLoss: 2.456435\n",
      "Train Epoch: 2 [21760/60000 (36%)]\tLoss: 2.465568\n",
      "Train Epoch: 2 [22400/60000 (37%)]\tLoss: 2.328825\n",
      "Train Epoch: 2 [23040/60000 (38%)]\tLoss: 2.400308\n",
      "Train Epoch: 2 [23680/60000 (39%)]\tLoss: 2.557960\n",
      "Train Epoch: 2 [24320/60000 (41%)]\tLoss: 2.685127\n",
      "Train Epoch: 2 [24960/60000 (42%)]\tLoss: 2.417000\n",
      "Train Epoch: 2 [25600/60000 (43%)]\tLoss: 2.531383\n",
      "Train Epoch: 2 [26240/60000 (44%)]\tLoss: 2.273350\n",
      "Train Epoch: 2 [26880/60000 (45%)]\tLoss: 2.494615\n",
      "Train Epoch: 2 [27520/60000 (46%)]\tLoss: 2.496711\n",
      "Train Epoch: 2 [28160/60000 (47%)]\tLoss: 2.329383\n",
      "Train Epoch: 2 [28800/60000 (48%)]\tLoss: 2.450744\n",
      "Train Epoch: 2 [29440/60000 (49%)]\tLoss: 2.302519\n",
      "Train Epoch: 2 [30080/60000 (50%)]\tLoss: 2.573582\n",
      "Train Epoch: 2 [30720/60000 (51%)]\tLoss: 2.461313\n",
      "Train Epoch: 2 [31360/60000 (52%)]\tLoss: 2.460717\n",
      "Train Epoch: 2 [32000/60000 (53%)]\tLoss: 2.423036\n",
      "Train Epoch: 2 [32640/60000 (54%)]\tLoss: 2.282743\n",
      "Train Epoch: 2 [33280/60000 (55%)]\tLoss: 2.445382\n",
      "Train Epoch: 2 [33920/60000 (57%)]\tLoss: 2.482998\n",
      "Train Epoch: 2 [34560/60000 (58%)]\tLoss: 2.329805\n",
      "Train Epoch: 2 [35200/60000 (59%)]\tLoss: 2.656977\n",
      "Train Epoch: 2 [35840/60000 (60%)]\tLoss: 2.272298\n",
      "Train Epoch: 2 [36480/60000 (61%)]\tLoss: 2.231564\n",
      "Train Epoch: 2 [37120/60000 (62%)]\tLoss: 2.276199\n",
      "Train Epoch: 2 [37760/60000 (63%)]\tLoss: 2.294784\n",
      "Train Epoch: 2 [38400/60000 (64%)]\tLoss: 2.352875\n",
      "Train Epoch: 2 [39040/60000 (65%)]\tLoss: 2.390706\n",
      "Train Epoch: 2 [39680/60000 (66%)]\tLoss: 2.283100\n",
      "Train Epoch: 2 [40320/60000 (67%)]\tLoss: 2.367821\n",
      "Train Epoch: 2 [40960/60000 (68%)]\tLoss: 2.508783\n",
      "Train Epoch: 2 [41600/60000 (69%)]\tLoss: 2.540282\n",
      "Train Epoch: 2 [42240/60000 (70%)]\tLoss: 2.459555\n",
      "Train Epoch: 2 [42880/60000 (71%)]\tLoss: 2.243778\n",
      "Train Epoch: 2 [43520/60000 (72%)]\tLoss: 2.314155\n",
      "Train Epoch: 2 [44160/60000 (74%)]\tLoss: 2.290881\n",
      "Train Epoch: 2 [44800/60000 (75%)]\tLoss: 2.434114\n",
      "Train Epoch: 2 [45440/60000 (76%)]\tLoss: 2.481389\n",
      "Train Epoch: 2 [46080/60000 (77%)]\tLoss: 2.502808\n",
      "Train Epoch: 2 [46720/60000 (78%)]\tLoss: 2.385200\n",
      "Train Epoch: 2 [47360/60000 (79%)]\tLoss: 2.376606\n",
      "Train Epoch: 2 [48000/60000 (80%)]\tLoss: 2.521407\n",
      "Train Epoch: 2 [48640/60000 (81%)]\tLoss: 2.425082\n",
      "Train Epoch: 2 [49280/60000 (82%)]\tLoss: 2.488184\n",
      "Train Epoch: 2 [49920/60000 (83%)]\tLoss: 2.402096\n",
      "Train Epoch: 2 [50560/60000 (84%)]\tLoss: 2.415089\n",
      "Train Epoch: 2 [51200/60000 (85%)]\tLoss: 2.282600\n",
      "Train Epoch: 2 [51840/60000 (86%)]\tLoss: 2.386339\n",
      "Train Epoch: 2 [52480/60000 (87%)]\tLoss: 2.380710\n",
      "Train Epoch: 2 [53120/60000 (88%)]\tLoss: 2.291301\n",
      "Train Epoch: 2 [53760/60000 (90%)]\tLoss: 2.339062\n",
      "Train Epoch: 2 [54400/60000 (91%)]\tLoss: 2.409255\n",
      "Train Epoch: 2 [55040/60000 (92%)]\tLoss: 2.389981\n",
      "Train Epoch: 2 [55680/60000 (93%)]\tLoss: 2.373128\n",
      "Train Epoch: 2 [56320/60000 (94%)]\tLoss: 2.327433\n",
      "Train Epoch: 2 [56960/60000 (95%)]\tLoss: 2.385689\n",
      "Train Epoch: 2 [57600/60000 (96%)]\tLoss: 2.410833\n",
      "Train Epoch: 2 [58240/60000 (97%)]\tLoss: 2.354100\n",
      "Train Epoch: 2 [58880/60000 (98%)]\tLoss: 2.465421\n",
      "Train Epoch: 2 [59520/60000 (99%)]\tLoss: 2.321458\n",
      "\n",
      "Test set: Avg. loss: 4.7863, Accuracy: 9577/10000 (96%)\n",
      "\n",
      "Train Epoch: 3 [0/60000 (0%)]\tLoss: 2.329302\n",
      "Train Epoch: 3 [640/60000 (1%)]\tLoss: 2.407114\n",
      "Train Epoch: 3 [1280/60000 (2%)]\tLoss: 2.380461\n",
      "Train Epoch: 3 [1920/60000 (3%)]\tLoss: 2.327199\n",
      "Train Epoch: 3 [2560/60000 (4%)]\tLoss: 2.348239\n",
      "Train Epoch: 3 [3200/60000 (5%)]\tLoss: 2.408773\n",
      "Train Epoch: 3 [3840/60000 (6%)]\tLoss: 2.654843\n",
      "Train Epoch: 3 [4480/60000 (7%)]\tLoss: 2.263534\n",
      "Train Epoch: 3 [5120/60000 (9%)]\tLoss: 2.451676\n",
      "Train Epoch: 3 [5760/60000 (10%)]\tLoss: 2.444487\n",
      "Train Epoch: 3 [6400/60000 (11%)]\tLoss: 2.273797\n",
      "Train Epoch: 3 [7040/60000 (12%)]\tLoss: 2.334312\n",
      "Train Epoch: 3 [7680/60000 (13%)]\tLoss: 2.389244\n",
      "Train Epoch: 3 [8320/60000 (14%)]\tLoss: 2.403409\n",
      "Train Epoch: 3 [8960/60000 (15%)]\tLoss: 2.478987\n",
      "Train Epoch: 3 [9600/60000 (16%)]\tLoss: 2.191155\n",
      "Train Epoch: 3 [10240/60000 (17%)]\tLoss: 2.426970\n",
      "Train Epoch: 3 [10880/60000 (18%)]\tLoss: 2.317049\n",
      "Train Epoch: 3 [11520/60000 (19%)]\tLoss: 2.243216\n",
      "Train Epoch: 3 [12160/60000 (20%)]\tLoss: 2.359354\n",
      "Train Epoch: 3 [12800/60000 (21%)]\tLoss: 2.461562\n",
      "Train Epoch: 3 [13440/60000 (22%)]\tLoss: 2.261554\n",
      "Train Epoch: 3 [14080/60000 (23%)]\tLoss: 2.187506\n",
      "Train Epoch: 3 [14720/60000 (25%)]\tLoss: 2.396598\n",
      "Train Epoch: 3 [15360/60000 (26%)]\tLoss: 2.198809\n",
      "Train Epoch: 3 [16000/60000 (27%)]\tLoss: 2.595909\n",
      "Train Epoch: 3 [16640/60000 (28%)]\tLoss: 2.358281\n",
      "Train Epoch: 3 [17280/60000 (29%)]\tLoss: 2.262330\n",
      "Train Epoch: 3 [17920/60000 (30%)]\tLoss: 2.290225\n",
      "Train Epoch: 3 [18560/60000 (31%)]\tLoss: 2.512856\n",
      "Train Epoch: 3 [19200/60000 (32%)]\tLoss: 2.309020\n",
      "Train Epoch: 3 [19840/60000 (33%)]\tLoss: 2.187546\n",
      "Train Epoch: 3 [20480/60000 (34%)]\tLoss: 2.466852\n",
      "Train Epoch: 3 [21120/60000 (35%)]\tLoss: 2.210567\n",
      "Train Epoch: 3 [21760/60000 (36%)]\tLoss: 2.286040\n",
      "Train Epoch: 3 [22400/60000 (37%)]\tLoss: 2.185211\n",
      "Train Epoch: 3 [23040/60000 (38%)]\tLoss: 2.224919\n",
      "Train Epoch: 3 [23680/60000 (39%)]\tLoss: 2.289030\n",
      "Train Epoch: 3 [24320/60000 (41%)]\tLoss: 2.395920\n",
      "Train Epoch: 3 [24960/60000 (42%)]\tLoss: 2.353065\n",
      "Train Epoch: 3 [25600/60000 (43%)]\tLoss: 2.368768\n",
      "Train Epoch: 3 [26240/60000 (44%)]\tLoss: 2.326339\n",
      "Train Epoch: 3 [26880/60000 (45%)]\tLoss: 2.277801\n",
      "Train Epoch: 3 [27520/60000 (46%)]\tLoss: 2.395241\n",
      "Train Epoch: 3 [28160/60000 (47%)]\tLoss: 2.269922\n",
      "Train Epoch: 3 [28800/60000 (48%)]\tLoss: 2.292247\n",
      "Train Epoch: 3 [29440/60000 (49%)]\tLoss: 2.296830\n",
      "Train Epoch: 3 [30080/60000 (50%)]\tLoss: 2.470648\n",
      "Train Epoch: 3 [30720/60000 (51%)]\tLoss: 2.245867\n",
      "Train Epoch: 3 [31360/60000 (52%)]\tLoss: 2.439547\n",
      "Train Epoch: 3 [32000/60000 (53%)]\tLoss: 2.286011\n",
      "Train Epoch: 3 [32640/60000 (54%)]\tLoss: 2.252297\n",
      "Train Epoch: 3 [33280/60000 (55%)]\tLoss: 2.242685\n",
      "Train Epoch: 3 [33920/60000 (57%)]\tLoss: 2.269966\n",
      "Train Epoch: 3 [34560/60000 (58%)]\tLoss: 2.380217\n",
      "Train Epoch: 3 [35200/60000 (59%)]\tLoss: 2.251239\n",
      "Train Epoch: 3 [35840/60000 (60%)]\tLoss: 2.561792\n",
      "Train Epoch: 3 [36480/60000 (61%)]\tLoss: 2.219442\n",
      "Train Epoch: 3 [37120/60000 (62%)]\tLoss: 2.234940\n",
      "Train Epoch: 3 [37760/60000 (63%)]\tLoss: 2.235313\n",
      "Train Epoch: 3 [38400/60000 (64%)]\tLoss: 2.419900\n",
      "Train Epoch: 3 [39040/60000 (65%)]\tLoss: 2.396346\n",
      "Train Epoch: 3 [39680/60000 (66%)]\tLoss: 2.443999\n",
      "Train Epoch: 3 [40320/60000 (67%)]\tLoss: 2.461160\n",
      "Train Epoch: 3 [40960/60000 (68%)]\tLoss: 2.154983\n",
      "Train Epoch: 3 [41600/60000 (69%)]\tLoss: 2.296965\n",
      "Train Epoch: 3 [42240/60000 (70%)]\tLoss: 2.158646\n",
      "Train Epoch: 3 [42880/60000 (71%)]\tLoss: 2.415082\n",
      "Train Epoch: 3 [43520/60000 (72%)]\tLoss: 2.220198\n",
      "Train Epoch: 3 [44160/60000 (74%)]\tLoss: 2.333827\n",
      "Train Epoch: 3 [44800/60000 (75%)]\tLoss: 2.313287\n",
      "Train Epoch: 3 [45440/60000 (76%)]\tLoss: 2.266691\n",
      "Train Epoch: 3 [46080/60000 (77%)]\tLoss: 2.245271\n",
      "Train Epoch: 3 [46720/60000 (78%)]\tLoss: 2.251785\n",
      "Train Epoch: 3 [47360/60000 (79%)]\tLoss: 2.222229\n",
      "Train Epoch: 3 [48000/60000 (80%)]\tLoss: 2.314536\n",
      "Train Epoch: 3 [48640/60000 (81%)]\tLoss: 2.299752\n",
      "Train Epoch: 3 [49280/60000 (82%)]\tLoss: 2.183724\n",
      "Train Epoch: 3 [49920/60000 (83%)]\tLoss: 2.330114\n",
      "Train Epoch: 3 [50560/60000 (84%)]\tLoss: 2.308530\n",
      "Train Epoch: 3 [51200/60000 (85%)]\tLoss: 2.123119\n",
      "Train Epoch: 3 [51840/60000 (86%)]\tLoss: 2.192250\n",
      "Train Epoch: 3 [52480/60000 (87%)]\tLoss: 2.463182\n",
      "Train Epoch: 3 [53120/60000 (88%)]\tLoss: 2.259575\n",
      "Train Epoch: 3 [53760/60000 (90%)]\tLoss: 2.223980\n",
      "Train Epoch: 3 [54400/60000 (91%)]\tLoss: 2.482395\n",
      "Train Epoch: 3 [55040/60000 (92%)]\tLoss: 2.335498\n",
      "Train Epoch: 3 [55680/60000 (93%)]\tLoss: 2.350115\n",
      "Train Epoch: 3 [56320/60000 (94%)]\tLoss: 2.183970\n",
      "Train Epoch: 3 [56960/60000 (95%)]\tLoss: 2.233664\n",
      "Train Epoch: 3 [57600/60000 (96%)]\tLoss: 2.345156\n",
      "Train Epoch: 3 [58240/60000 (97%)]\tLoss: 2.233309\n",
      "Train Epoch: 3 [58880/60000 (98%)]\tLoss: 2.385770\n",
      "Train Epoch: 3 [59520/60000 (99%)]\tLoss: 2.302793\n",
      "\n",
      "Test set: Avg. loss: 4.7466, Accuracy: 9641/10000 (96%)\n",
      "\n"
     ]
    }
   ],
   "source": [
    "# test()\n",
    "for epoch in range(1, n_epochs + 1):\n",
    "  train(epoch)\n",
    "  test()"
   ]
  },
  {
   "cell_type": "code",
   "execution_count": null,
   "metadata": {},
   "outputs": [],
   "source": []
  }
 ],
 "metadata": {
  "kernelspec": {
   "display_name": "Python 3 (ipykernel)",
   "language": "python",
   "name": "python3"
  },
  "language_info": {
   "codemirror_mode": {
    "name": "ipython",
    "version": 3
   },
   "file_extension": ".py",
   "mimetype": "text/x-python",
   "name": "python",
   "nbconvert_exporter": "python",
   "pygments_lexer": "ipython3",
   "version": "3.8.13"
  }
 },
 "nbformat": 4,
 "nbformat_minor": 4
}
