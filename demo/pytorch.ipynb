{
 "cells": [
  {
   "cell_type": "code",
   "execution_count": 1,
   "metadata": {},
   "outputs": [],
   "source": [
    "import torch\n",
    "import torchvision"
   ]
  },
  {
   "cell_type": "code",
   "execution_count": 2,
   "metadata": {},
   "outputs": [
    {
     "data": {
      "text/plain": [
       "<torch._C.Generator at 0x7f5bdc1113d0>"
      ]
     },
     "execution_count": 2,
     "metadata": {},
     "output_type": "execute_result"
    }
   ],
   "source": [
    "n_epochs = 3\n",
    "batch_size_train = 64\n",
    "batch_size_test = 1000\n",
    "learning_rate = 0.01\n",
    "momentum = 0.5\n",
    "log_interval = 10\n",
    "\n",
    "random_seed = 1\n",
    "torch.backends.cudnn.enabled = False\n",
    "torch.manual_seed(random_seed)"
   ]
  },
  {
   "cell_type": "code",
   "execution_count": 3,
   "metadata": {},
   "outputs": [
    {
     "name": "stderr",
     "output_type": "stream",
     "text": [
      "0it [00:00, ?it/s]"
     ]
    },
    {
     "name": "stdout",
     "output_type": "stream",
     "text": [
      "Downloading http://yann.lecun.com/exdb/mnist/train-images-idx3-ubyte.gz to /files/MNIST/raw/train-images-idx3-ubyte.gz\n"
     ]
    },
    {
     "name": "stderr",
     "output_type": "stream",
     "text": [
      "9920512it [00:03, 3114696.14it/s]                             \n"
     ]
    },
    {
     "name": "stdout",
     "output_type": "stream",
     "text": [
      "Extracting /files/MNIST/raw/train-images-idx3-ubyte.gz\n"
     ]
    },
    {
     "name": "stderr",
     "output_type": "stream",
     "text": [
      "32768it [00:00, 6944167.01it/s]\n",
      "0it [00:00, ?it/s]"
     ]
    },
    {
     "name": "stdout",
     "output_type": "stream",
     "text": [
      "Downloading http://yann.lecun.com/exdb/mnist/train-labels-idx1-ubyte.gz to /files/MNIST/raw/train-labels-idx1-ubyte.gz\n",
      "Extracting /files/MNIST/raw/train-labels-idx1-ubyte.gz\n",
      "Downloading http://yann.lecun.com/exdb/mnist/t10k-images-idx3-ubyte.gz to /files/MNIST/raw/t10k-images-idx3-ubyte.gz\n"
     ]
    },
    {
     "name": "stderr",
     "output_type": "stream",
     "text": [
      "1654784it [00:00, 3628116.74it/s]                             \n",
      "8192it [00:00, 2131761.90it/s]\n"
     ]
    },
    {
     "name": "stdout",
     "output_type": "stream",
     "text": [
      "Extracting /files/MNIST/raw/t10k-images-idx3-ubyte.gz\n",
      "Downloading http://yann.lecun.com/exdb/mnist/t10k-labels-idx1-ubyte.gz to /files/MNIST/raw/t10k-labels-idx1-ubyte.gz\n",
      "Extracting /files/MNIST/raw/t10k-labels-idx1-ubyte.gz\n",
      "Processing...\n",
      "Done!\n"
     ]
    }
   ],
   "source": [
    "train_loader = torch.utils.data.DataLoader(\n",
    "  torchvision.datasets.MNIST('/files/', train=True, download=True,\n",
    "                             transform=torchvision.transforms.Compose([\n",
    "                               torchvision.transforms.ToTensor(),\n",
    "                               torchvision.transforms.Normalize(\n",
    "                                 (0.1307,), (0.3081,))\n",
    "                             ])),\n",
    "  batch_size=batch_size_train, shuffle=True)\n",
    "\n",
    "test_loader = torch.utils.data.DataLoader(\n",
    "  torchvision.datasets.MNIST('/files/', train=False, download=True,\n",
    "                             transform=torchvision.transforms.Compose([\n",
    "                               torchvision.transforms.ToTensor(),\n",
    "                               torchvision.transforms.Normalize(\n",
    "                                 (0.1307,), (0.3081,))\n",
    "                             ])),\n",
    "  batch_size=batch_size_test, shuffle=True)"
   ]
  },
  {
   "cell_type": "code",
   "execution_count": 4,
   "metadata": {},
   "outputs": [],
   "source": [
    "examples = enumerate(test_loader)\n",
    "batch_idx, (example_data, example_targets) = next(examples)"
   ]
  },
  {
   "cell_type": "code",
   "execution_count": 5,
   "metadata": {},
   "outputs": [
    {
     "data": {
      "text/plain": [
       "torch.Size([1000, 1, 28, 28])"
      ]
     },
     "execution_count": 5,
     "metadata": {},
     "output_type": "execute_result"
    }
   ],
   "source": [
    "example_data.shape"
   ]
  },
  {
   "cell_type": "code",
   "execution_count": 6,
   "metadata": {},
   "outputs": [
    {
     "data": {
      "text/plain": [
       "<Figure size 640x480 with 6 Axes>"
      ]
     },
     "execution_count": 6,
     "metadata": {},
     "output_type": "execute_result"
    }
   ],
   "source": [
    "import matplotlib.pyplot as plt\n",
    "\n",
    "fig = plt.figure()\n",
    "for i in range(6):\n",
    "  plt.subplot(2,3,i+1)\n",
    "  plt.tight_layout()\n",
    "  plt.imshow(example_data[i][0], cmap='gray', interpolation='none')\n",
    "  plt.title(\"Ground Truth: {}\".format(example_targets[i]))\n",
    "  plt.xticks([])\n",
    "  plt.yticks([])\n",
    "fig"
   ]
  },
  {
   "cell_type": "code",
   "execution_count": 7,
   "metadata": {},
   "outputs": [],
   "source": [
    "import torch.nn as nn\n",
    "import torch.nn.functional as F\n",
    "import torch.optim as optim"
   ]
  },
  {
   "cell_type": "code",
   "execution_count": 8,
   "metadata": {},
   "outputs": [],
   "source": [
    "class Net(nn.Module):\n",
    "    def __init__(self):\n",
    "        super(Net, self).__init__()\n",
    "        self.conv1 = nn.Conv2d(1, 10, kernel_size=5)\n",
    "        self.conv2 = nn.Conv2d(10, 20, kernel_size=5)\n",
    "        self.conv2_drop = nn.Dropout2d()\n",
    "        self.fc1 = nn.Linear(320, 50)\n",
    "        self.fc2 = nn.Linear(50, 10)\n",
    "\n",
    "    def forward(self, x):\n",
    "        x = F.relu(F.max_pool2d(self.conv1(x), 2))\n",
    "        x = F.relu(F.max_pool2d(self.conv2_drop(self.conv2(x)), 2))\n",
    "        x = x.view(-1, 320)\n",
    "        x = F.relu(self.fc1(x))\n",
    "        x = F.dropout(x, training=self.training)\n",
    "        x = self.fc2(x)\n",
    "        return F.log_softmax(x)"
   ]
  },
  {
   "cell_type": "code",
   "execution_count": 9,
   "metadata": {},
   "outputs": [],
   "source": [
    "network = Net()\n",
    "optimizer = optim.SGD(network.parameters(), lr=learning_rate,\n",
    "                      momentum=momentum)"
   ]
  },
  {
   "cell_type": "code",
   "execution_count": 10,
   "metadata": {},
   "outputs": [],
   "source": [
    "train_losses = []\n",
    "train_counter = []\n",
    "test_losses = []\n",
    "test_counter = [i*len(train_loader.dataset) for i in range(n_epochs + 1)]"
   ]
  },
  {
   "cell_type": "code",
   "execution_count": 16,
   "metadata": {},
   "outputs": [],
   "source": [
    "def train(epoch):\n",
    "  network.train()\n",
    "  for batch_idx, (data, target) in enumerate(train_loader):\n",
    "    optimizer.zero_grad()\n",
    "    output = network(data)\n",
    "    loss = F.nll_loss(output, target)\n",
    "    loss.backward()\n",
    "    optimizer.step()\n",
    "    if batch_idx % log_interval == 0:\n",
    "      print('Train Epoch: {} [{}/{} ({:.0f}%)]\\tLoss: {:.6f}'.format(\n",
    "        epoch, batch_idx * len(data), len(train_loader.dataset),\n",
    "        100. * batch_idx / len(train_loader), loss.item()))\n",
    "      train_losses.append(loss.item())\n",
    "      train_counter.append(\n",
    "        (batch_idx*64) + ((epoch-1)*len(train_loader.dataset)))\n",
    "      torch.save(network.state_dict(), './results/model.pth')\n",
    "      torch.save(optimizer.state_dict(), './results/optimizer.pth')"
   ]
  },
  {
   "cell_type": "code",
   "execution_count": 17,
   "metadata": {},
   "outputs": [],
   "source": [
    "def test():\n",
    "  network.eval()\n",
    "  test_loss = 0\n",
    "  correct = 0\n",
    "  with torch.no_grad():\n",
    "    for data, target in test_loader:\n",
    "      output = network(data)\n",
    "      test_loss += F.nll_loss(output, target, size_average=False).item()\n",
    "      pred = output.data.max(1, keepdim=True)[1]\n",
    "      correct += pred.eq(target.data.view_as(pred)).sum()\n",
    "  test_loss /= len(test_loader.dataset)\n",
    "  test_losses.append(test_loss)\n",
    "  print('\\nTest set: Avg. loss: {:.4f}, Accuracy: {}/{} ({:.0f}%)\\n'.format(\n",
    "    test_loss, correct, len(test_loader.dataset),\n",
    "    100. * correct / len(test_loader.dataset)))"
   ]
  },
  {
   "cell_type": "code",
   "execution_count": 18,
   "metadata": {},
   "outputs": [
    {
     "name": "stderr",
     "output_type": "stream",
     "text": [
      "/opt/conda/lib/python3.7/site-packages/ipykernel_launcher.py:17: UserWarning: Implicit dimension choice for log_softmax has been deprecated. Change the call to include dim=X as an argument.\n"
     ]
    },
    {
     "name": "stdout",
     "output_type": "stream",
     "text": [
      "Train Epoch: 1 [0/60000 (0%)]\tLoss: 2.273459\n",
      "Train Epoch: 1 [640/60000 (1%)]\tLoss: 2.255804\n",
      "Train Epoch: 1 [1280/60000 (2%)]\tLoss: 2.253477\n",
      "Train Epoch: 1 [1920/60000 (3%)]\tLoss: 2.276307\n",
      "Train Epoch: 1 [2560/60000 (4%)]\tLoss: 2.205931\n",
      "Train Epoch: 1 [3200/60000 (5%)]\tLoss: 2.142368\n",
      "Train Epoch: 1 [3840/60000 (6%)]\tLoss: 2.222990\n",
      "Train Epoch: 1 [4480/60000 (7%)]\tLoss: 2.045199\n",
      "Train Epoch: 1 [5120/60000 (9%)]\tLoss: 1.989158\n",
      "Train Epoch: 1 [5760/60000 (10%)]\tLoss: 1.872446\n",
      "Train Epoch: 1 [6400/60000 (11%)]\tLoss: 1.830397\n",
      "Train Epoch: 1 [7040/60000 (12%)]\tLoss: 1.789129\n",
      "Train Epoch: 1 [7680/60000 (13%)]\tLoss: 1.745549\n",
      "Train Epoch: 1 [8320/60000 (14%)]\tLoss: 1.592391\n",
      "Train Epoch: 1 [8960/60000 (15%)]\tLoss: 1.423177\n",
      "Train Epoch: 1 [9600/60000 (16%)]\tLoss: 1.429330\n",
      "Train Epoch: 1 [10240/60000 (17%)]\tLoss: 1.316790\n",
      "Train Epoch: 1 [10880/60000 (18%)]\tLoss: 1.193643\n",
      "Train Epoch: 1 [11520/60000 (19%)]\tLoss: 1.393684\n",
      "Train Epoch: 1 [12160/60000 (20%)]\tLoss: 1.174951\n",
      "Train Epoch: 1 [12800/60000 (21%)]\tLoss: 1.118695\n",
      "Train Epoch: 1 [13440/60000 (22%)]\tLoss: 1.087935\n",
      "Train Epoch: 1 [14080/60000 (23%)]\tLoss: 1.052347\n",
      "Train Epoch: 1 [14720/60000 (25%)]\tLoss: 1.155025\n",
      "Train Epoch: 1 [15360/60000 (26%)]\tLoss: 1.017966\n",
      "Train Epoch: 1 [16000/60000 (27%)]\tLoss: 0.979032\n",
      "Train Epoch: 1 [16640/60000 (28%)]\tLoss: 1.087756\n",
      "Train Epoch: 1 [17280/60000 (29%)]\tLoss: 0.930914\n",
      "Train Epoch: 1 [17920/60000 (30%)]\tLoss: 0.976067\n",
      "Train Epoch: 1 [18560/60000 (31%)]\tLoss: 0.775819\n",
      "Train Epoch: 1 [19200/60000 (32%)]\tLoss: 0.862885\n",
      "Train Epoch: 1 [19840/60000 (33%)]\tLoss: 0.829051\n",
      "Train Epoch: 1 [20480/60000 (34%)]\tLoss: 0.598256\n",
      "Train Epoch: 1 [21120/60000 (35%)]\tLoss: 0.801363\n",
      "Train Epoch: 1 [21760/60000 (36%)]\tLoss: 0.995944\n",
      "Train Epoch: 1 [22400/60000 (37%)]\tLoss: 0.750771\n",
      "Train Epoch: 1 [23040/60000 (38%)]\tLoss: 0.618086\n",
      "Train Epoch: 1 [23680/60000 (39%)]\tLoss: 0.717152\n",
      "Train Epoch: 1 [24320/60000 (41%)]\tLoss: 0.689198\n",
      "Train Epoch: 1 [24960/60000 (42%)]\tLoss: 0.851983\n",
      "Train Epoch: 1 [25600/60000 (43%)]\tLoss: 0.703557\n",
      "Train Epoch: 1 [26240/60000 (44%)]\tLoss: 0.646756\n",
      "Train Epoch: 1 [26880/60000 (45%)]\tLoss: 0.582669\n",
      "Train Epoch: 1 [27520/60000 (46%)]\tLoss: 0.722921\n",
      "Train Epoch: 1 [28160/60000 (47%)]\tLoss: 0.901506\n",
      "Train Epoch: 1 [28800/60000 (48%)]\tLoss: 0.542582\n",
      "Train Epoch: 1 [29440/60000 (49%)]\tLoss: 0.693622\n",
      "Train Epoch: 1 [30080/60000 (50%)]\tLoss: 0.745556\n",
      "Train Epoch: 1 [30720/60000 (51%)]\tLoss: 0.743032\n",
      "Train Epoch: 1 [31360/60000 (52%)]\tLoss: 0.735095\n",
      "Train Epoch: 1 [32000/60000 (53%)]\tLoss: 0.670409\n",
      "Train Epoch: 1 [32640/60000 (54%)]\tLoss: 0.727450\n",
      "Train Epoch: 1 [33280/60000 (55%)]\tLoss: 0.740321\n",
      "Train Epoch: 1 [33920/60000 (57%)]\tLoss: 0.515523\n",
      "Train Epoch: 1 [34560/60000 (58%)]\tLoss: 0.851765\n",
      "Train Epoch: 1 [35200/60000 (59%)]\tLoss: 0.822772\n",
      "Train Epoch: 1 [35840/60000 (60%)]\tLoss: 0.707503\n",
      "Train Epoch: 1 [36480/60000 (61%)]\tLoss: 0.571778\n",
      "Train Epoch: 1 [37120/60000 (62%)]\tLoss: 0.299801\n",
      "Train Epoch: 1 [37760/60000 (63%)]\tLoss: 0.468144\n",
      "Train Epoch: 1 [38400/60000 (64%)]\tLoss: 0.787333\n",
      "Train Epoch: 1 [39040/60000 (65%)]\tLoss: 0.483904\n",
      "Train Epoch: 1 [39680/60000 (66%)]\tLoss: 0.674497\n",
      "Train Epoch: 1 [40320/60000 (67%)]\tLoss: 0.575649\n",
      "Train Epoch: 1 [40960/60000 (68%)]\tLoss: 0.493229\n",
      "Train Epoch: 1 [41600/60000 (69%)]\tLoss: 0.920790\n",
      "Train Epoch: 1 [42240/60000 (70%)]\tLoss: 0.758568\n",
      "Train Epoch: 1 [42880/60000 (71%)]\tLoss: 0.555075\n",
      "Train Epoch: 1 [43520/60000 (72%)]\tLoss: 0.483154\n",
      "Train Epoch: 1 [44160/60000 (74%)]\tLoss: 0.648939\n",
      "Train Epoch: 1 [44800/60000 (75%)]\tLoss: 0.817819\n",
      "Train Epoch: 1 [45440/60000 (76%)]\tLoss: 0.678495\n",
      "Train Epoch: 1 [46080/60000 (77%)]\tLoss: 0.407264\n",
      "Train Epoch: 1 [46720/60000 (78%)]\tLoss: 0.450470\n",
      "Train Epoch: 1 [47360/60000 (79%)]\tLoss: 0.466353\n",
      "Train Epoch: 1 [48000/60000 (80%)]\tLoss: 0.432635\n",
      "Train Epoch: 1 [48640/60000 (81%)]\tLoss: 0.547360\n",
      "Train Epoch: 1 [49280/60000 (82%)]\tLoss: 0.743208\n",
      "Train Epoch: 1 [49920/60000 (83%)]\tLoss: 0.725464\n",
      "Train Epoch: 1 [50560/60000 (84%)]\tLoss: 0.589411\n",
      "Train Epoch: 1 [51200/60000 (85%)]\tLoss: 0.675362\n",
      "Train Epoch: 1 [51840/60000 (86%)]\tLoss: 0.344569\n",
      "Train Epoch: 1 [52480/60000 (87%)]\tLoss: 0.497340\n",
      "Train Epoch: 1 [53120/60000 (88%)]\tLoss: 0.548748\n",
      "Train Epoch: 1 [53760/60000 (90%)]\tLoss: 0.294046\n",
      "Train Epoch: 1 [54400/60000 (91%)]\tLoss: 0.295447\n",
      "Train Epoch: 1 [55040/60000 (92%)]\tLoss: 0.675388\n",
      "Train Epoch: 1 [55680/60000 (93%)]\tLoss: 0.431532\n",
      "Train Epoch: 1 [56320/60000 (94%)]\tLoss: 0.674031\n",
      "Train Epoch: 1 [56960/60000 (95%)]\tLoss: 0.556813\n",
      "Train Epoch: 1 [57600/60000 (96%)]\tLoss: 0.398279\n",
      "Train Epoch: 1 [58240/60000 (97%)]\tLoss: 0.454726\n",
      "Train Epoch: 1 [58880/60000 (98%)]\tLoss: 0.395037\n",
      "Train Epoch: 1 [59520/60000 (99%)]\tLoss: 0.418195\n"
     ]
    },
    {
     "name": "stderr",
     "output_type": "stream",
     "text": [
      "/opt/conda/lib/python3.7/site-packages/torch/nn/_reduction.py:46: UserWarning: size_average and reduce args will be deprecated, please use reduction='sum' instead.\n",
      "  warnings.warn(warning.format(ret))\n"
     ]
    },
    {
     "name": "stdout",
     "output_type": "stream",
     "text": [
      "\n",
      "Test set: Avg. loss: 0.2059, Accuracy: 9404/10000 (94%)\n",
      "\n",
      "Train Epoch: 2 [0/60000 (0%)]\tLoss: 0.616770\n",
      "Train Epoch: 2 [640/60000 (1%)]\tLoss: 0.371861\n",
      "Train Epoch: 2 [1280/60000 (2%)]\tLoss: 0.550599\n",
      "Train Epoch: 2 [1920/60000 (3%)]\tLoss: 0.427689\n",
      "Train Epoch: 2 [2560/60000 (4%)]\tLoss: 0.389997\n",
      "Train Epoch: 2 [3200/60000 (5%)]\tLoss: 0.491877\n",
      "Train Epoch: 2 [3840/60000 (6%)]\tLoss: 0.754018\n",
      "Train Epoch: 2 [4480/60000 (7%)]\tLoss: 0.455917\n",
      "Train Epoch: 2 [5120/60000 (9%)]\tLoss: 0.271281\n",
      "Train Epoch: 2 [5760/60000 (10%)]\tLoss: 0.516181\n",
      "Train Epoch: 2 [6400/60000 (11%)]\tLoss: 0.584363\n",
      "Train Epoch: 2 [7040/60000 (12%)]\tLoss: 0.484237\n",
      "Train Epoch: 2 [7680/60000 (13%)]\tLoss: 0.386958\n",
      "Train Epoch: 2 [8320/60000 (14%)]\tLoss: 0.537496\n",
      "Train Epoch: 2 [8960/60000 (15%)]\tLoss: 0.549177\n",
      "Train Epoch: 2 [9600/60000 (16%)]\tLoss: 0.195472\n",
      "Train Epoch: 2 [10240/60000 (17%)]\tLoss: 0.381628\n",
      "Train Epoch: 2 [10880/60000 (18%)]\tLoss: 0.151023\n",
      "Train Epoch: 2 [11520/60000 (19%)]\tLoss: 0.362783\n",
      "Train Epoch: 2 [12160/60000 (20%)]\tLoss: 0.447634\n",
      "Train Epoch: 2 [12800/60000 (21%)]\tLoss: 0.478902\n",
      "Train Epoch: 2 [13440/60000 (22%)]\tLoss: 0.291726\n",
      "Train Epoch: 2 [14080/60000 (23%)]\tLoss: 0.595800\n",
      "Train Epoch: 2 [14720/60000 (25%)]\tLoss: 0.390005\n",
      "Train Epoch: 2 [15360/60000 (26%)]\tLoss: 0.346840\n",
      "Train Epoch: 2 [16000/60000 (27%)]\tLoss: 0.560891\n",
      "Train Epoch: 2 [16640/60000 (28%)]\tLoss: 0.347994\n",
      "Train Epoch: 2 [17280/60000 (29%)]\tLoss: 0.297400\n",
      "Train Epoch: 2 [17920/60000 (30%)]\tLoss: 0.458666\n",
      "Train Epoch: 2 [18560/60000 (31%)]\tLoss: 0.341055\n",
      "Train Epoch: 2 [19200/60000 (32%)]\tLoss: 0.354628\n",
      "Train Epoch: 2 [19840/60000 (33%)]\tLoss: 0.423496\n",
      "Train Epoch: 2 [20480/60000 (34%)]\tLoss: 0.347082\n",
      "Train Epoch: 2 [21120/60000 (35%)]\tLoss: 0.377769\n",
      "Train Epoch: 2 [21760/60000 (36%)]\tLoss: 0.400827\n",
      "Train Epoch: 2 [22400/60000 (37%)]\tLoss: 0.317257\n",
      "Train Epoch: 2 [23040/60000 (38%)]\tLoss: 0.222397\n",
      "Train Epoch: 2 [23680/60000 (39%)]\tLoss: 0.361872\n",
      "Train Epoch: 2 [24320/60000 (41%)]\tLoss: 0.414283\n",
      "Train Epoch: 2 [24960/60000 (42%)]\tLoss: 0.396155\n",
      "Train Epoch: 2 [25600/60000 (43%)]\tLoss: 0.784234\n",
      "Train Epoch: 2 [26240/60000 (44%)]\tLoss: 0.397074\n",
      "Train Epoch: 2 [26880/60000 (45%)]\tLoss: 0.389078\n",
      "Train Epoch: 2 [27520/60000 (46%)]\tLoss: 0.316096\n",
      "Train Epoch: 2 [28160/60000 (47%)]\tLoss: 0.441183\n",
      "Train Epoch: 2 [28800/60000 (48%)]\tLoss: 0.549702\n",
      "Train Epoch: 2 [29440/60000 (49%)]\tLoss: 0.343063\n",
      "Train Epoch: 2 [30080/60000 (50%)]\tLoss: 0.221016\n",
      "Train Epoch: 2 [30720/60000 (51%)]\tLoss: 0.246336\n",
      "Train Epoch: 2 [31360/60000 (52%)]\tLoss: 0.335934\n",
      "Train Epoch: 2 [32000/60000 (53%)]\tLoss: 0.243764\n",
      "Train Epoch: 2 [32640/60000 (54%)]\tLoss: 0.381593\n",
      "Train Epoch: 2 [33280/60000 (55%)]\tLoss: 0.331939\n",
      "Train Epoch: 2 [33920/60000 (57%)]\tLoss: 0.253689\n",
      "Train Epoch: 2 [34560/60000 (58%)]\tLoss: 0.331233\n",
      "Train Epoch: 2 [35200/60000 (59%)]\tLoss: 0.182324\n",
      "Train Epoch: 2 [35840/60000 (60%)]\tLoss: 0.386129\n",
      "Train Epoch: 2 [36480/60000 (61%)]\tLoss: 0.563083\n",
      "Train Epoch: 2 [37120/60000 (62%)]\tLoss: 0.229349\n",
      "Train Epoch: 2 [37760/60000 (63%)]\tLoss: 0.461492\n",
      "Train Epoch: 2 [38400/60000 (64%)]\tLoss: 0.339303\n",
      "Train Epoch: 2 [39040/60000 (65%)]\tLoss: 0.339009\n",
      "Train Epoch: 2 [39680/60000 (66%)]\tLoss: 0.259194\n",
      "Train Epoch: 2 [40320/60000 (67%)]\tLoss: 0.454434\n",
      "Train Epoch: 2 [40960/60000 (68%)]\tLoss: 0.273514\n",
      "Train Epoch: 2 [41600/60000 (69%)]\tLoss: 0.220727\n",
      "Train Epoch: 2 [42240/60000 (70%)]\tLoss: 0.387106\n",
      "Train Epoch: 2 [42880/60000 (71%)]\tLoss: 0.336382\n",
      "Train Epoch: 2 [43520/60000 (72%)]\tLoss: 0.274166\n",
      "Train Epoch: 2 [44160/60000 (74%)]\tLoss: 0.433661\n",
      "Train Epoch: 2 [44800/60000 (75%)]\tLoss: 0.390543\n",
      "Train Epoch: 2 [45440/60000 (76%)]\tLoss: 0.411114\n",
      "Train Epoch: 2 [46080/60000 (77%)]\tLoss: 0.391933\n",
      "Train Epoch: 2 [46720/60000 (78%)]\tLoss: 0.380807\n",
      "Train Epoch: 2 [47360/60000 (79%)]\tLoss: 0.198545\n",
      "Train Epoch: 2 [48000/60000 (80%)]\tLoss: 0.386628\n",
      "Train Epoch: 2 [48640/60000 (81%)]\tLoss: 0.408368\n",
      "Train Epoch: 2 [49280/60000 (82%)]\tLoss: 0.274402\n",
      "Train Epoch: 2 [49920/60000 (83%)]\tLoss: 0.305904\n",
      "Train Epoch: 2 [50560/60000 (84%)]\tLoss: 0.240360\n",
      "Train Epoch: 2 [51200/60000 (85%)]\tLoss: 0.255651\n",
      "Train Epoch: 2 [51840/60000 (86%)]\tLoss: 0.366759\n",
      "Train Epoch: 2 [52480/60000 (87%)]\tLoss: 0.322516\n",
      "Train Epoch: 2 [53120/60000 (88%)]\tLoss: 0.368976\n",
      "Train Epoch: 2 [53760/60000 (90%)]\tLoss: 0.522347\n",
      "Train Epoch: 2 [54400/60000 (91%)]\tLoss: 0.289162\n",
      "Train Epoch: 2 [55040/60000 (92%)]\tLoss: 0.221622\n",
      "Train Epoch: 2 [55680/60000 (93%)]\tLoss: 0.426982\n",
      "Train Epoch: 2 [56320/60000 (94%)]\tLoss: 0.273693\n",
      "Train Epoch: 2 [56960/60000 (95%)]\tLoss: 0.299413\n",
      "Train Epoch: 2 [57600/60000 (96%)]\tLoss: 0.312061\n",
      "Train Epoch: 2 [58240/60000 (97%)]\tLoss: 0.200182\n",
      "Train Epoch: 2 [58880/60000 (98%)]\tLoss: 0.343317\n",
      "Train Epoch: 2 [59520/60000 (99%)]\tLoss: 0.243618\n",
      "\n",
      "Test set: Avg. loss: 0.1237, Accuracy: 9613/10000 (96%)\n",
      "\n",
      "Train Epoch: 3 [0/60000 (0%)]\tLoss: 0.254416\n",
      "Train Epoch: 3 [640/60000 (1%)]\tLoss: 0.276119\n",
      "Train Epoch: 3 [1280/60000 (2%)]\tLoss: 0.401304\n",
      "Train Epoch: 3 [1920/60000 (3%)]\tLoss: 0.385279\n",
      "Train Epoch: 3 [2560/60000 (4%)]\tLoss: 0.362240\n",
      "Train Epoch: 3 [3200/60000 (5%)]\tLoss: 0.368536\n",
      "Train Epoch: 3 [3840/60000 (6%)]\tLoss: 0.308785\n",
      "Train Epoch: 3 [4480/60000 (7%)]\tLoss: 0.408035\n",
      "Train Epoch: 3 [5120/60000 (9%)]\tLoss: 0.341516\n",
      "Train Epoch: 3 [5760/60000 (10%)]\tLoss: 0.432710\n",
      "Train Epoch: 3 [6400/60000 (11%)]\tLoss: 0.177671\n",
      "Train Epoch: 3 [7040/60000 (12%)]\tLoss: 0.214578\n",
      "Train Epoch: 3 [7680/60000 (13%)]\tLoss: 0.261572\n",
      "Train Epoch: 3 [8320/60000 (14%)]\tLoss: 0.505490\n",
      "Train Epoch: 3 [8960/60000 (15%)]\tLoss: 0.314590\n",
      "Train Epoch: 3 [9600/60000 (16%)]\tLoss: 0.230643\n",
      "Train Epoch: 3 [10240/60000 (17%)]\tLoss: 0.154557\n",
      "Train Epoch: 3 [10880/60000 (18%)]\tLoss: 0.304013\n",
      "Train Epoch: 3 [11520/60000 (19%)]\tLoss: 0.340401\n",
      "Train Epoch: 3 [12160/60000 (20%)]\tLoss: 0.469128\n",
      "Train Epoch: 3 [12800/60000 (21%)]\tLoss: 0.315652\n",
      "Train Epoch: 3 [13440/60000 (22%)]\tLoss: 0.287926\n",
      "Train Epoch: 3 [14080/60000 (23%)]\tLoss: 0.259046\n",
      "Train Epoch: 3 [14720/60000 (25%)]\tLoss: 0.413564\n",
      "Train Epoch: 3 [15360/60000 (26%)]\tLoss: 0.339002\n",
      "Train Epoch: 3 [16000/60000 (27%)]\tLoss: 0.362812\n",
      "Train Epoch: 3 [16640/60000 (28%)]\tLoss: 0.204350\n",
      "Train Epoch: 3 [17280/60000 (29%)]\tLoss: 0.249561\n",
      "Train Epoch: 3 [17920/60000 (30%)]\tLoss: 0.250935\n",
      "Train Epoch: 3 [18560/60000 (31%)]\tLoss: 0.323088\n",
      "Train Epoch: 3 [19200/60000 (32%)]\tLoss: 0.224516\n",
      "Train Epoch: 3 [19840/60000 (33%)]\tLoss: 0.246673\n",
      "Train Epoch: 3 [20480/60000 (34%)]\tLoss: 0.293660\n",
      "Train Epoch: 3 [21120/60000 (35%)]\tLoss: 0.304625\n",
      "Train Epoch: 3 [21760/60000 (36%)]\tLoss: 0.370368\n",
      "Train Epoch: 3 [22400/60000 (37%)]\tLoss: 0.373639\n",
      "Train Epoch: 3 [23040/60000 (38%)]\tLoss: 0.352640\n",
      "Train Epoch: 3 [23680/60000 (39%)]\tLoss: 0.326531\n",
      "Train Epoch: 3 [24320/60000 (41%)]\tLoss: 0.375703\n",
      "Train Epoch: 3 [24960/60000 (42%)]\tLoss: 0.327141\n",
      "Train Epoch: 3 [25600/60000 (43%)]\tLoss: 0.390422\n",
      "Train Epoch: 3 [26240/60000 (44%)]\tLoss: 0.455750\n",
      "Train Epoch: 3 [26880/60000 (45%)]\tLoss: 0.463952\n",
      "Train Epoch: 3 [27520/60000 (46%)]\tLoss: 0.338292\n",
      "Train Epoch: 3 [28160/60000 (47%)]\tLoss: 0.210096\n",
      "Train Epoch: 3 [28800/60000 (48%)]\tLoss: 0.374201\n",
      "Train Epoch: 3 [29440/60000 (49%)]\tLoss: 0.227921\n",
      "Train Epoch: 3 [30080/60000 (50%)]\tLoss: 0.232561\n",
      "Train Epoch: 3 [30720/60000 (51%)]\tLoss: 0.108243\n",
      "Train Epoch: 3 [31360/60000 (52%)]\tLoss: 0.419215\n",
      "Train Epoch: 3 [32000/60000 (53%)]\tLoss: 0.343606\n",
      "Train Epoch: 3 [32640/60000 (54%)]\tLoss: 0.203028\n",
      "Train Epoch: 3 [33280/60000 (55%)]\tLoss: 0.324874\n",
      "Train Epoch: 3 [33920/60000 (57%)]\tLoss: 0.288396\n",
      "Train Epoch: 3 [34560/60000 (58%)]\tLoss: 0.352222\n",
      "Train Epoch: 3 [35200/60000 (59%)]\tLoss: 0.369133\n",
      "Train Epoch: 3 [35840/60000 (60%)]\tLoss: 0.393439\n",
      "Train Epoch: 3 [36480/60000 (61%)]\tLoss: 0.190339\n",
      "Train Epoch: 3 [37120/60000 (62%)]\tLoss: 0.286081\n",
      "Train Epoch: 3 [37760/60000 (63%)]\tLoss: 0.353993\n",
      "Train Epoch: 3 [38400/60000 (64%)]\tLoss: 0.399217\n",
      "Train Epoch: 3 [39040/60000 (65%)]\tLoss: 0.195147\n",
      "Train Epoch: 3 [39680/60000 (66%)]\tLoss: 0.234917\n",
      "Train Epoch: 3 [40320/60000 (67%)]\tLoss: 0.193553\n",
      "Train Epoch: 3 [40960/60000 (68%)]\tLoss: 0.186491\n",
      "Train Epoch: 3 [41600/60000 (69%)]\tLoss: 0.343360\n",
      "Train Epoch: 3 [42240/60000 (70%)]\tLoss: 0.205940\n",
      "Train Epoch: 3 [42880/60000 (71%)]\tLoss: 0.182574\n",
      "Train Epoch: 3 [43520/60000 (72%)]\tLoss: 0.190550\n",
      "Train Epoch: 3 [44160/60000 (74%)]\tLoss: 0.377790\n",
      "Train Epoch: 3 [44800/60000 (75%)]\tLoss: 0.175431\n",
      "Train Epoch: 3 [45440/60000 (76%)]\tLoss: 0.303901\n",
      "Train Epoch: 3 [46080/60000 (77%)]\tLoss: 0.156915\n",
      "Train Epoch: 3 [46720/60000 (78%)]\tLoss: 0.377071\n",
      "Train Epoch: 3 [47360/60000 (79%)]\tLoss: 0.201922\n",
      "Train Epoch: 3 [48000/60000 (80%)]\tLoss: 0.266031\n",
      "Train Epoch: 3 [48640/60000 (81%)]\tLoss: 0.507971\n",
      "Train Epoch: 3 [49280/60000 (82%)]\tLoss: 0.292531\n",
      "Train Epoch: 3 [49920/60000 (83%)]\tLoss: 0.178577\n",
      "Train Epoch: 3 [50560/60000 (84%)]\tLoss: 0.257266\n",
      "Train Epoch: 3 [51200/60000 (85%)]\tLoss: 0.385947\n",
      "Train Epoch: 3 [51840/60000 (86%)]\tLoss: 0.163446\n",
      "Train Epoch: 3 [52480/60000 (87%)]\tLoss: 0.258585\n",
      "Train Epoch: 3 [53120/60000 (88%)]\tLoss: 0.275813\n",
      "Train Epoch: 3 [53760/60000 (90%)]\tLoss: 0.246217\n",
      "Train Epoch: 3 [54400/60000 (91%)]\tLoss: 0.371959\n",
      "Train Epoch: 3 [55040/60000 (92%)]\tLoss: 0.133730\n",
      "Train Epoch: 3 [55680/60000 (93%)]\tLoss: 0.372942\n",
      "Train Epoch: 3 [56320/60000 (94%)]\tLoss: 0.093890\n",
      "Train Epoch: 3 [56960/60000 (95%)]\tLoss: 0.196213\n",
      "Train Epoch: 3 [57600/60000 (96%)]\tLoss: 0.251023\n",
      "Train Epoch: 3 [58240/60000 (97%)]\tLoss: 0.485532\n",
      "Train Epoch: 3 [58880/60000 (98%)]\tLoss: 0.293657\n",
      "Train Epoch: 3 [59520/60000 (99%)]\tLoss: 0.252173\n",
      "\n",
      "Test set: Avg. loss: 0.0917, Accuracy: 9709/10000 (97%)\n",
      "\n"
     ]
    }
   ],
   "source": [
    "# test()\n",
    "for epoch in range(1, n_epochs + 1):\n",
    "  train(epoch)\n",
    "  test()"
   ]
  },
  {
   "cell_type": "code",
   "execution_count": null,
   "metadata": {},
   "outputs": [],
   "source": []
  }
 ],
 "metadata": {
  "kernelspec": {
   "display_name": "Python 3",
   "language": "python",
   "name": "python3"
  },
  "language_info": {
   "codemirror_mode": {
    "name": "ipython",
    "version": 3
   },
   "file_extension": ".py",
   "mimetype": "text/x-python",
   "name": "python",
   "nbconvert_exporter": "python",
   "pygments_lexer": "ipython3",
   "version": "3.7.3"
  }
 },
 "nbformat": 4,
 "nbformat_minor": 2
}
